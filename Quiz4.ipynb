{
  "nbformat": 4,
  "nbformat_minor": 0,
  "metadata": {
    "colab": {
      "name": "Quiz4.ipynb",
      "provenance": [],
      "authorship_tag": "ABX9TyO06uusDjMV0NRApTeKenx6",
      "include_colab_link": true
    },
    "kernelspec": {
      "name": "python3",
      "display_name": "Python 3"
    },
    "language_info": {
      "name": "python"
    }
  },
  "cells": [
    {
      "cell_type": "markdown",
      "metadata": {
        "id": "view-in-github",
        "colab_type": "text"
      },
      "source": [
        "<a href=\"https://colab.research.google.com/github/mpaydar/CS381/blob/main/Quiz4.ipynb\" target=\"_parent\"><img src=\"https://colab.research.google.com/assets/colab-badge.svg\" alt=\"Open In Colab\"/></a>"
      ]
    },
    {
      "cell_type": "code",
      "execution_count": 12,
      "metadata": {
        "colab": {
          "base_uri": "https://localhost:8080/"
        },
        "id": "jO9fOEYJeMTW",
        "outputId": "8db8eef6-bb1a-489c-bf25-d152ee082bbe"
      },
      "outputs": [
        {
          "output_type": "stream",
          "name": "stdout",
          "text": [
            "   Unnamed: 0    dir    hir       lvr  ccs  mcs pbcr dmi self single  uria  \\\n",
            "0           1  0.221  0.221  0.800000  5.0  2.0   no  no   no     no   3.9   \n",
            "1           2  0.265  0.265  0.921875  2.0  2.0   no  no   no    yes   3.2   \n",
            "2           3  0.372  0.248  0.920398  1.0  2.0   no  no   no     no   3.2   \n",
            "3           4  0.320  0.250  0.860465  1.0  2.0   no  no   no     no   4.3   \n",
            "4           5  0.360  0.350  0.600000  1.0  1.0   no  no   no     no   3.2   \n",
            "\n",
            "   comdominiom black deny  \n",
            "0            0    no   no  \n",
            "1            0    no   no  \n",
            "2            0    no   no  \n",
            "3            0    no   no  \n",
            "4            0    no   no  \n"
          ]
        }
      ],
      "source": [
        "import pandas as pd\n",
        "dataframe=pd.read_csv('https://raw.githubusercontent.com/mpaydar/CS381/main/Quiz4/HDMA%20Boston%20Housing%20Data.csv')\n",
        "print(dataframe.head())"
      ]
    },
    {
      "cell_type": "markdown",
      "source": [
        "# Introduction"
      ],
      "metadata": {
        "id": "d6HKStu3ftP-"
      }
    },
    {
      "cell_type": "markdown",
      "source": [
        "## Attribute:\n",
        "# Numerical Attribute:\n",
        "**dir**: debt payments to total income ratio\n",
        "      \n",
        "      A low debt-to-income ratio demonstrates a good \n",
        "      balance between debt and income. In general, \n",
        "      the lower the percentage, the better the chance \n",
        "      you will be able to get the loan or line of \n",
        "      credit you want.\n",
        "\n",
        "      Lenders prefer to see a debt-to-income ratio \n",
        "      smaller than **36%**, with no more than **28%** of that \n",
        "      debt going towards servicing your mortgage\n",
        "\n",
        "\n",
        "\n",
        "\n",
        "\n",
        "**hir**: housing expenses to income ratio\n",
        "\n",
        "    The **threshold **for the housing expense ratio set \n",
        "    by lenders for mortgage loan approvals is \n",
        "    typically equal to **28%.** A ratio higher than 28% \n",
        "    can be accepted by a lender if the loan-to-value \n",
        "    ratio (LTV) is low and/or the borrower \n",
        "    demonstrates an excellent credit history.\n",
        "\n",
        "    Keeping monthly housing expenses to 28% of the \n",
        "    borrower’s gross income assists in estimating how \n",
        "    much the debtor can afford to pay monthly on a \n",
        "    mortgage.\n",
        "\n",
        "**lvr**:ratio of size of loan to assessed value of property\n",
        "   \n",
        "    Generally, 80% LTV is considered a good \n",
        "    loan-to-value ratio. If you’re buying a home, you \n",
        "    achieve an 80% LTV by making a 20% down payment.\n",
        "\n",
        "    Homeowners with an 80% LTV do not have to pay for \n",
        "    private mortgage insurance (PMI). And they \n",
        "    typically qualify for lower interest rates. So \n",
        "    there are real perks to making a big down payment \n",
        "    and getting your LTV to 80% or lower.\n",
        "\n",
        "\n",
        "**ccs**:consumer credit score from 1 to 6 (a low value being a good score)\n",
        "\n",
        "**mcs**: mortgage credit score from 1 to 4 (a low value being a good score)\n",
        "\n",
        "**uria:** 1989 Massachusetts unemployment rate in the applicant's industry\n",
        "\n",
        "# Categorical Attribute:\n",
        "**pbcr**: public bad credit record ? Yes/No\n",
        "\n",
        "**dmi**: denied mortgage insurance ? Yes/No\n",
        "\n",
        "**self**:self employed ? Yes/No\n",
        "\n",
        "**single**: is the applicant single ? Yes/No\n",
        "\n",
        "\n",
        "\n",
        "\n",
        "**condominium**:is unit a condominium ? (was called comdominiom in version 0.2-9 and earlier versions of the package) 0/1\n",
        "\n",
        "A condominium (or condo for short) is a building structure divided into several units that are each separately owned, surrounded by common areas that are jointly owned. (wikipedia)\n",
        "\n",
        "\n",
        "\n",
        "\n",
        "\n",
        "\n",
        "**black**: is the applicant black ? Yes/No\n",
        "\n",
        "\n",
        "**deny**: mortgage application denied ?  Yes/No"
      ],
      "metadata": {
        "id": "cRp9qPv9fum-"
      }
    },
    {
      "cell_type": "markdown",
      "source": [
        ""
      ],
      "metadata": {
        "id": "m00JfAOLhnY3"
      }
    },
    {
      "cell_type": "code",
      "source": [
        "dataframe=dataframe.drop('Unnamed: 0',axis=1)\n",
        "print(dataframe.head())\n",
        "head=['debtToIncome','HouseToIncome','LoanTopropertyValue','ConsumerCredit','MortgageCredit','BadCredit','DenMorgeInsur.','selfEmploy','IsSingle','MasUnEmploymentRate','condominium','black','mortgageDecision']\n",
        "dataframe.columns=head\n",
        "print(dataframe.head())\n",
        "\n",
        "\n",
        "a=dataframe.nunique()\n",
        "a"
      ],
      "metadata": {
        "colab": {
          "base_uri": "https://localhost:8080/"
        },
        "id": "3qzag2XAh0xb",
        "outputId": "97fe4170-efb5-4d2b-b2dc-4ddf6da6aef1"
      },
      "execution_count": 13,
      "outputs": [
        {
          "output_type": "stream",
          "name": "stdout",
          "text": [
            "     dir    hir       lvr  ccs  mcs pbcr dmi self single  uria  comdominiom  \\\n",
            "0  0.221  0.221  0.800000  5.0  2.0   no  no   no     no   3.9            0   \n",
            "1  0.265  0.265  0.921875  2.0  2.0   no  no   no    yes   3.2            0   \n",
            "2  0.372  0.248  0.920398  1.0  2.0   no  no   no     no   3.2            0   \n",
            "3  0.320  0.250  0.860465  1.0  2.0   no  no   no     no   4.3            0   \n",
            "4  0.360  0.350  0.600000  1.0  1.0   no  no   no     no   3.2            0   \n",
            "\n",
            "  black deny  \n",
            "0    no   no  \n",
            "1    no   no  \n",
            "2    no   no  \n",
            "3    no   no  \n",
            "4    no   no  \n",
            "   debtToIncome  HouseToIncome  LoanTopropertyValue  ConsumerCredit  \\\n",
            "0         0.221          0.221             0.800000             5.0   \n",
            "1         0.265          0.265             0.921875             2.0   \n",
            "2         0.372          0.248             0.920398             1.0   \n",
            "3         0.320          0.250             0.860465             1.0   \n",
            "4         0.360          0.350             0.600000             1.0   \n",
            "\n",
            "   MortgageCredit BadCredit DenMorgeInsur. selfEmploy IsSingle  \\\n",
            "0             2.0        no             no         no       no   \n",
            "1             2.0        no             no         no      yes   \n",
            "2             2.0        no             no         no       no   \n",
            "3             2.0        no             no         no       no   \n",
            "4             1.0        no             no         no       no   \n",
            "\n",
            "   MasUnEmploymentRate  condominium black mortgageDecision  \n",
            "0                  3.9            0    no               no  \n",
            "1                  3.2            0    no               no  \n",
            "2                  3.2            0    no               no  \n",
            "3                  4.3            0    no               no  \n",
            "4                  3.2            0    no               no  \n"
          ]
        },
        {
          "output_type": "execute_result",
          "data": {
            "text/plain": [
              "debtToIncome            520\n",
              "HouseToIncome           501\n",
              "LoanTopropertyValue    1538\n",
              "ConsumerCredit            7\n",
              "MortgageCredit            5\n",
              "BadCredit                 2\n",
              "DenMorgeInsur.            2\n",
              "selfEmploy                2\n",
              "IsSingle                  2\n",
              "MasUnEmploymentRate      11\n",
              "condominium               2\n",
              "black                     2\n",
              "mortgageDecision          2\n",
              "dtype: int64"
            ]
          },
          "metadata": {},
          "execution_count": 13
        }
      ]
    },
    {
      "cell_type": "markdown",
      "source": [
        "# Source \n",
        "\n",
        "\n",
        "https://www.investopedia.com/ask/answers/081214/whats-considered-be-good-debttoincome-dti-ratio.asp\n",
        "\n",
        "\n",
        "\n",
        "https://corporatefinanceinstitute.com/resources/knowledge/credit/housing-expense-ratio/\n",
        "\n",
        "\n",
        "https://themortgagereports.com/13598/loan-to-value-for-mortgages-explained-in-plain-english\n",
        "\n"
      ],
      "metadata": {
        "id": "0oa_yqtVpuXq"
      }
    }
  ]
}